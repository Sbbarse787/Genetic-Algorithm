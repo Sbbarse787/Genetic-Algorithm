{
  "nbformat": 4,
  "nbformat_minor": 0,
  "metadata": {
    "colab": {
      "name": "Genetic_Algorithm.ipynb",
      "provenance": [],
      "collapsed_sections": [],
      "authorship_tag": "ABX9TyMpY+OsPCR2JaL5IOXj9AFa",
      "include_colab_link": true
    },
    "kernelspec": {
      "name": "python3",
      "display_name": "Python 3"
    }
  },
  "cells": [
    {
      "cell_type": "markdown",
      "metadata": {
        "id": "view-in-github",
        "colab_type": "text"
      },
      "source": [
        "<a href=\"https://colab.research.google.com/github/Sbbarse787/Genetic-Algorithm/blob/main/Genetic_Algorithm.ipynb\" target=\"_parent\"><img src=\"https://colab.research.google.com/assets/colab-badge.svg\" alt=\"Open In Colab\"/></a>"
      ]
    },
    {
      "cell_type": "code",
      "metadata": {
        "id": "7jZ2fM9Tsfr1"
      },
      "source": [
        "# Executed By Saurabh Barse ..A-54\n",
        "\n",
        "import numpy as np\n",
        "import pandas as pd"
      ],
      "execution_count": null,
      "outputs": []
    },
    {
      "cell_type": "code",
      "metadata": {
        "id": "Y_zYNCOasHJn"
      },
      "source": [
        "staff_planning = [\n",
        "    [[0, 0, 10],[1, 0, 10],[2, 0, 10],[3, 0, 10],[4, 0, 10],[5, 0, 10],[6, 0, 10],[7, 0, 10],[8, 0, 10],[9, 0, 10],[10, 0, 10]],\n",
        "    [[0, 0, 10],[1, 0, 10],[2, 0, 10],[3, 0, 10],[4, 0, 10],[5, 0, 10],[6, 0, 10],[7, 0, 10],[8, 0, 10],[9, 0, 10],[10, 0, 10]],\n",
        "    [[0, 0, 10],[1, 0, 10],[2, 0, 10],[3, 0, 10],[4, 0, 10],[5, 0, 10],[6, 0, 10],[7, 0, 10],[8, 0, 10],[9, 0, 10],[10, 0, 10]],\n",
        "    [[0, 0, 10],[1, 0, 10],[2, 0, 10],[3, 0, 10],[4, 0, 10],[5, 0, 10],[6, 0, 10],[7, 0, 10],[8, 0, 10],[9, 0, 10],[10, 0, 10]],\n",
        "    [[0, 0, 10],[1, 0, 10],[2, 0, 10],[3, 0, 10],[4, 0, 10],[5, 0, 10],[6, 0, 10],[7, 0, 10],[8, 0, 10],[9, 0, 10],[10, 0, 10]]\n",
        "]"
      ],
      "execution_count": null,
      "outputs": []
    },
    {
      "cell_type": "code",
      "metadata": {
        "id": "QxslOdR1t2GC"
      },
      "source": [
        "hourlystaff_needed = np.array([\n",
        "    [0, 0, 0, 0, 0, 0, 4, 4, 4, 2, 2, 2, 6, 6, 2, 2, 2, 6, 6, 6, 2, 2, 2, 2],\n",
        "    [0, 0, 0, 0, 0, 0, 4, 4, 4, 2, 2, 2, 6, 6, 2, 2, 2, 6, 6, 6, 2, 2, 2, 2],\n",
        "    [0, 0, 0, 0, 0, 0, 4, 4, 4, 2, 2, 2, 6, 6, 2, 2, 2, 6, 6, 6, 2, 2, 2, 2],\n",
        "    [0, 0, 0, 0, 0, 0, 4, 4, 4, 2, 2, 2, 6, 6, 2, 2, 2, 6, 6, 6, 2, 2, 2, 2],\n",
        "    [0, 0, 0, 0, 0, 0, 4, 4, 4, 2, 2, 2, 6, 6, 2, 2, 2, 6, 6, 6, 2, 2, 2, 2]\n",
        "])"
      ],
      "execution_count": null,
      "outputs": []
    },
    {
      "cell_type": "code",
      "metadata": {
        "id": "T_Qi7-Qqt2n1"
      },
      "source": [
        "\"\"\"\n",
        "Employee Present: analyse whether the employee is present yes or no on a given time\n",
        "Based on the employee list of 3 (id, start time, duration)\n",
        "\"\"\"\n",
        "def employee_present(employee, time):\n",
        "    employee_start_time = employee[1]\n",
        "    employee_duration = employee[2]\n",
        "    employee_end_time = employee_start_time + employee_duration\n",
        "    if (time >= employee_start_time) and (time < employee_end_time):\n",
        "        return True\n",
        "    return False"
      ],
      "execution_count": null,
      "outputs": []
    },
    {
      "cell_type": "code",
      "metadata": {
        "id": "GkONZUfLt80C"
      },
      "source": [
        "\"\"\"\n",
        "convert a staff planning to a staff-needed plannig\n",
        "The employee planning is organised per employee, the staff-needed planning is the number of employees working per hour\n",
        "The staff-needed planning is based on the employee planning and will allow to calculate the difference with the staff-needed\n",
        "It doesnt work overnight, but our shop isnt open at night anyway\n",
        "\"\"\"\n",
        "def staffplanning_to_hourlyplanning(staff_planning):\n",
        "    \n",
        "    hourlystaff_week = []\n",
        "    for day in staff_planning:\n",
        "        \n",
        "        hourlystaff_day = [] \n",
        "        for employee in day:\n",
        "            \n",
        "            employee_present_hour = []\n",
        "            for time in range(0, 24):\n",
        "                \n",
        "                employee_present_hour.append(employee_present(employee, time))\n",
        "                \n",
        "            hourlystaff_day.append(employee_present_hour)\n",
        "            \n",
        "        hourlystaff_week.append(hourlystaff_day)\n",
        "        \n",
        "    hourlystaff_week = np.array(hourlystaff_week).sum(axis = 1)  \n",
        "    return hourlystaff_week"
      ],
      "execution_count": null,
      "outputs": []
    },
    {
      "cell_type": "code",
      "metadata": {
        "id": "P9fmyxQIt9TF"
      },
      "source": [
        "\"\"\"\n",
        "the cost is calculated as hours understaffed + hours overstaffed\n",
        "\"\"\"\n",
        "def cost(hourlystaff, hourlystaff_needed):\n",
        "    errors = hourlystaff - hourlystaff_needed\n",
        "    overstaff = abs(errors[errors > 0].sum())\n",
        "    understaff = abs(errors[errors < 0].sum())\n",
        "    \n",
        "    overstaff_cost = 1\n",
        "    understaff_cost = 1\n",
        "    \n",
        "    cost = overstaff_cost * overstaff + understaff_cost * understaff\n",
        "    return cost\n",
        "    "
      ],
      "execution_count": null,
      "outputs": []
    },
    {
      "cell_type": "markdown",
      "metadata": {
        "id": "VbKtQvb0uKr2"
      },
      "source": [
        "GENETIC CODE"
      ]
    },
    {
      "cell_type": "code",
      "metadata": {
        "id": "rbr47JKat_98"
      },
      "source": [
        "\"\"\"\n",
        "generate an entirely random staff planning for a certain number of days\n",
        "start time is random between 0 and 23; duration is random between 0 and 10\n",
        "\"\"\"\n",
        "def generate_random_staff_planning(n_days, n_staff):\n",
        "    period_planning = []\n",
        "    for day in range(n_days):\n",
        "        day_planning = []\n",
        "        for employee_id in range(n_staff):\n",
        "            start_time = np.random.randint(0, 23)\n",
        "            duration = np.random.randint(0, 10)\n",
        "            employee = [employee_id, start_time, duration]\n",
        "            day_planning.append(employee)\n",
        "\n",
        "        period_planning.append(day_planning)\n",
        "            \n",
        "    return period_planning"
      ],
      "execution_count": null,
      "outputs": []
    },
    {
      "cell_type": "code",
      "metadata": {
        "id": "52hU8tv7uDes",
        "outputId": "b311036e-ab06-4063-f570-ea4be8581fa7",
        "colab": {
          "base_uri": "https://localhost:8080/",
          "height": 33
        }
      },
      "source": [
        "# An example of the code until here\n",
        "\n",
        "# show the random initialization of the week planning\n",
        "random_staff_planning = generate_random_staff_planning(n_days = 5, n_staff = 11)\n",
        "random_staff_planning\n",
        "\n",
        "# show the cost of this random week planning\n",
        "cost(staffplanning_to_hourlyplanning(random_staff_planning), hourlystaff_needed)"
      ],
      "execution_count": null,
      "outputs": [
        {
          "output_type": "execute_result",
          "data": {
            "text/plain": [
              "209"
            ]
          },
          "metadata": {
            "tags": []
          },
          "execution_count": 13
        }
      ]
    },
    {
      "cell_type": "markdown",
      "metadata": {
        "id": "1se94nnOuS8U"
      },
      "source": [
        "Create Generation"
      ]
    },
    {
      "cell_type": "code",
      "metadata": {
        "id": "pzwg_EPOuP43"
      },
      "source": [
        "\"\"\"\n",
        "create a parent generation of n parent plannings\n",
        "\"\"\"\n",
        "def create_parent_generation(n_parents, n_days = 7, n_staff = 11):\n",
        "    parents = []\n",
        "    for i in range(n_parents):\n",
        "        parent = generate_random_staff_planning(n_days = n_days, n_staff = n_staff)\n",
        "        parents.append(parent)\n",
        "    return parents"
      ],
      "execution_count": null,
      "outputs": []
    },
    {
      "cell_type": "markdown",
      "metadata": {
        "id": "wnZPTCu9uYZ_"
      },
      "source": [
        "Cross Over"
      ]
    },
    {
      "cell_type": "code",
      "metadata": {
        "id": "5ytKy8eNuXIn"
      },
      "source": [
        "\"\"\"\n",
        "for each iteration, select randomly two parents and make a random combination of those two parents\n",
        "by applying a randomly generated yes/no mask to the two selected parents\n",
        "\"\"\"\n",
        "def random_combine(parents, n_offspring):\n",
        "    n_parents = len(parents)\n",
        "    n_periods = len(parents[0])\n",
        "    n_employees = len(parents[0][0])\n",
        "    \n",
        "    offspring = []\n",
        "    for i in range(n_offspring):\n",
        "        random_dad = parents[np.random.randint(low = 0, high = n_parents - 1)]\n",
        "        random_mom = parents[np.random.randint(low = 0, high = n_parents - 1)]\n",
        "        \n",
        "        dad_mask = np.random.randint(0, 2, size = np.array(random_dad).shape)\n",
        "        mom_mask = np.logical_not(dad_mask)\n",
        "        \n",
        "        child = np.add(np.multiply(random_dad, dad_mask), np.multiply(random_mom, mom_mask))\n",
        "\n",
        "        offspring.append(child)\n",
        "    return offspring"
      ],
      "execution_count": null,
      "outputs": []
    },
    {
      "cell_type": "markdown",
      "metadata": {
        "id": "ocqGvSFgufyC"
      },
      "source": [
        "Mutation"
      ]
    },
    {
      "cell_type": "code",
      "metadata": {
        "id": "wsCAmWkqubos"
      },
      "source": [
        "def mutate_parent(parent, n_mutations):\n",
        "    size1 = parent.shape[0]\n",
        "    size2 = parent.shape[1]\n",
        "    \n",
        "    for i in range(n_mutations):\n",
        "\n",
        "        rand1 = np.random.randint(0, size1)\n",
        "        rand2 = np.random.randint(0, size2)\n",
        "        rand3 = np.random.randint(1, 2)\n",
        "\n",
        "        parent[rand1,rand2,rand3] = np.random.randint(0, 10)\n",
        "\n",
        "    return parent\n",
        "\n",
        "def mutate_gen(parent_gen, n_mutations):\n",
        "    mutated_parent_gen = []\n",
        "    for parent in parent_gen:\n",
        "        mutated_parent_gen.append(mutate_parent(parent, n_mutations))\n",
        "    return mutated_parent_gen\n"
      ],
      "execution_count": null,
      "outputs": []
    },
    {
      "cell_type": "markdown",
      "metadata": {
        "id": "kzUsi70fulMG"
      },
      "source": [
        "Selection Feasiblity"
      ]
    },
    {
      "cell_type": "code",
      "metadata": {
        "id": "TcwC4qJbujbD"
      },
      "source": [
        "def is_acceptable(parent):\n",
        "    return np.logical_not((np.array(parent)[:,:,2:] > 10).any()) #work more than 10 hours is not ok\n",
        "\n",
        "def select_acceptable(parent_gen):\n",
        "    parent_gen = [parent for parent in parent_gen if is_acceptable(parent)]\n",
        "    return parent_gen"
      ],
      "execution_count": null,
      "outputs": []
    },
    {
      "cell_type": "markdown",
      "metadata": {
        "id": "j9IhP7GkutFT"
      },
      "source": [
        "Selection - cost"
      ]
    },
    {
      "cell_type": "code",
      "metadata": {
        "id": "4eJUQj4XusRF"
      },
      "source": [
        "def is_acceptable(parent):\n",
        "    return np.logical_not((np.array(parent)[:,:,2:] > 10).any()) #work more than 10 hours is not ok\n",
        "\n",
        "def select_acceptable(parent_gen):\n",
        "    parent_gen = [parent for parent in parent_gen if is_acceptable(parent)]\n",
        "    return parent_gen"
      ],
      "execution_count": null,
      "outputs": []
    },
    {
      "cell_type": "code",
      "metadata": {
        "id": "YhU_GKl5vOhE"
      },
      "source": [
        "def select_best(parent_gen, hourlystaff_needed, n_best):\n",
        "    costs = []\n",
        "    for idx, parent_staff_planning in enumerate(parent_gen):\n",
        "        \n",
        "        parent_hourly_planning = staffplanning_to_hourlyplanning(parent_staff_planning)\n",
        "        parent_cost = cost(parent_hourly_planning, hourlystaff_needed)\n",
        "        costs.append([idx, parent_cost])\n",
        "    \n",
        "    print('generations best is: {}, generations worst is: {}'.format(pd.DataFrame(costs)[1].min(), pd.DataFrame(costs)[1].max()))\n",
        "    \n",
        "    costs_tmp = pd.DataFrame(costs).sort_values(by = 1, ascending = True).reset_index(drop=True)\n",
        "    selected_parents_idx = list(costs_tmp.iloc[:n_best,0])\n",
        "    selected_parents = [parent for idx, parent in enumerate(parent_gen) if idx in selected_parents_idx]\n",
        "    \n",
        "    return selected_parents"
      ],
      "execution_count": null,
      "outputs": []
    },
    {
      "cell_type": "markdown",
      "metadata": {
        "id": "8ZncbXZ0u2hN"
      },
      "source": [
        "Itration complete Algorithm"
      ]
    },
    {
      "cell_type": "code",
      "metadata": {
        "id": "4Plc64y0ukHM"
      },
      "source": [
        "\"\"\"\n",
        "the overall function\n",
        "\"\"\"\n",
        "def gen_algo(hourlystaff_needed, n_iterations):   \n",
        "    \n",
        "    generation_size = 500\n",
        "    \n",
        "    parent_gen = create_parent_generation(n_parents = generation_size, n_days = 5, n_staff = 11)\n",
        "    for it in range(n_iterations):\n",
        "        parent_gen = select_acceptable(parent_gen)\n",
        "        parent_gen = select_best(parent_gen, hourlystaff_needed, n_best = 100)\n",
        "        parent_gen = random_combine(parent_gen, n_offspring = generation_size)\n",
        "        parent_gen = mutate_gen(parent_gen, n_mutations = 1)\n",
        "    \n",
        "    best_child = select_best(parent_gen, hourlystaff_needed, n_best = 1)\n",
        "    return best_child"
      ],
      "execution_count": null,
      "outputs": []
    },
    {
      "cell_type": "code",
      "metadata": {
        "id": "gd6uiXX9u6qF"
      },
      "source": [
        ""
      ],
      "execution_count": null,
      "outputs": []
    },
    {
      "cell_type": "markdown",
      "metadata": {
        "id": "cP-LeWIVu7YE"
      },
      "source": [
        "Execute All"
      ]
    },
    {
      "cell_type": "code",
      "metadata": {
        "id": "JA6CLhNZu_0d",
        "outputId": "66bb334e-f593-4643-ee01-482a08b0157b",
        "colab": {
          "base_uri": "https://localhost:8080/",
          "height": 985
        }
      },
      "source": [
        "best_planning = gen_algo(hourlystaff_needed, n_iterations = 100)"
      ],
      "execution_count": null,
      "outputs": [
        {
          "output_type": "stream",
          "text": [
            "generations best is: 166, generations worst is: 269\n",
            "generations best is: 164, generations worst is: 235\n",
            "generations best is: 152, generations worst is: 233\n",
            "generations best is: 152, generations worst is: 223\n",
            "generations best is: 145, generations worst is: 211\n",
            "generations best is: 135, generations worst is: 214\n",
            "generations best is: 126, generations worst is: 211\n",
            "generations best is: 130, generations worst is: 197\n",
            "generations best is: 121, generations worst is: 189\n",
            "generations best is: 124, generations worst is: 202\n",
            "generations best is: 116, generations worst is: 188\n",
            "generations best is: 119, generations worst is: 191\n",
            "generations best is: 113, generations worst is: 180\n",
            "generations best is: 109, generations worst is: 175\n",
            "generations best is: 108, generations worst is: 174\n",
            "generations best is: 104, generations worst is: 172\n",
            "generations best is: 102, generations worst is: 182\n",
            "generations best is: 103, generations worst is: 172\n",
            "generations best is: 100, generations worst is: 168\n",
            "generations best is: 99, generations worst is: 163\n",
            "generations best is: 89, generations worst is: 162\n",
            "generations best is: 95, generations worst is: 161\n",
            "generations best is: 93, generations worst is: 168\n",
            "generations best is: 86, generations worst is: 158\n",
            "generations best is: 88, generations worst is: 155\n",
            "generations best is: 86, generations worst is: 150\n",
            "generations best is: 84, generations worst is: 152\n",
            "generations best is: 80, generations worst is: 170\n",
            "generations best is: 76, generations worst is: 150\n",
            "generations best is: 76, generations worst is: 140\n",
            "generations best is: 78, generations worst is: 138\n",
            "generations best is: 71, generations worst is: 139\n",
            "generations best is: 72, generations worst is: 124\n",
            "generations best is: 62, generations worst is: 133\n",
            "generations best is: 66, generations worst is: 132\n",
            "generations best is: 71, generations worst is: 127\n",
            "generations best is: 57, generations worst is: 138\n",
            "generations best is: 61, generations worst is: 125\n",
            "generations best is: 61, generations worst is: 121\n",
            "generations best is: 58, generations worst is: 110\n",
            "generations best is: 56, generations worst is: 114\n"
          ],
          "name": "stdout"
        },
        {
          "output_type": "error",
          "ename": "KeyboardInterrupt",
          "evalue": "ignored",
          "traceback": [
            "\u001b[0;31m---------------------------------------------------------------------------\u001b[0m",
            "\u001b[0;31mKeyboardInterrupt\u001b[0m                         Traceback (most recent call last)",
            "\u001b[0;32m<ipython-input-31-65e80222658a>\u001b[0m in \u001b[0;36m<module>\u001b[0;34m()\u001b[0m\n\u001b[0;32m----> 1\u001b[0;31m \u001b[0mbest_planning\u001b[0m \u001b[0;34m=\u001b[0m \u001b[0mgen_algo\u001b[0m\u001b[0;34m(\u001b[0m\u001b[0mhourlystaff_needed\u001b[0m\u001b[0;34m,\u001b[0m \u001b[0mn_iterations\u001b[0m \u001b[0;34m=\u001b[0m \u001b[0;36m100\u001b[0m\u001b[0;34m)\u001b[0m\u001b[0;34m\u001b[0m\u001b[0;34m\u001b[0m\u001b[0m\n\u001b[0m",
            "\u001b[0;32m<ipython-input-27-5333b014c517>\u001b[0m in \u001b[0;36mgen_algo\u001b[0;34m(hourlystaff_needed, n_iterations)\u001b[0m\n\u001b[1;32m      9\u001b[0m     \u001b[0;32mfor\u001b[0m \u001b[0mit\u001b[0m \u001b[0;32min\u001b[0m \u001b[0mrange\u001b[0m\u001b[0;34m(\u001b[0m\u001b[0mn_iterations\u001b[0m\u001b[0;34m)\u001b[0m\u001b[0;34m:\u001b[0m\u001b[0;34m\u001b[0m\u001b[0;34m\u001b[0m\u001b[0m\n\u001b[1;32m     10\u001b[0m         \u001b[0mparent_gen\u001b[0m \u001b[0;34m=\u001b[0m \u001b[0mselect_acceptable\u001b[0m\u001b[0;34m(\u001b[0m\u001b[0mparent_gen\u001b[0m\u001b[0;34m)\u001b[0m\u001b[0;34m\u001b[0m\u001b[0;34m\u001b[0m\u001b[0m\n\u001b[0;32m---> 11\u001b[0;31m         \u001b[0mparent_gen\u001b[0m \u001b[0;34m=\u001b[0m \u001b[0mselect_best\u001b[0m\u001b[0;34m(\u001b[0m\u001b[0mparent_gen\u001b[0m\u001b[0;34m,\u001b[0m \u001b[0mhourlystaff_needed\u001b[0m\u001b[0;34m,\u001b[0m \u001b[0mn_best\u001b[0m \u001b[0;34m=\u001b[0m \u001b[0;36m100\u001b[0m\u001b[0;34m)\u001b[0m\u001b[0;34m\u001b[0m\u001b[0;34m\u001b[0m\u001b[0m\n\u001b[0m\u001b[1;32m     12\u001b[0m         \u001b[0mparent_gen\u001b[0m \u001b[0;34m=\u001b[0m \u001b[0mrandom_combine\u001b[0m\u001b[0;34m(\u001b[0m\u001b[0mparent_gen\u001b[0m\u001b[0;34m,\u001b[0m \u001b[0mn_offspring\u001b[0m \u001b[0;34m=\u001b[0m \u001b[0mgeneration_size\u001b[0m\u001b[0;34m)\u001b[0m\u001b[0;34m\u001b[0m\u001b[0;34m\u001b[0m\u001b[0m\n\u001b[1;32m     13\u001b[0m         \u001b[0mparent_gen\u001b[0m \u001b[0;34m=\u001b[0m \u001b[0mmutate_gen\u001b[0m\u001b[0;34m(\u001b[0m\u001b[0mparent_gen\u001b[0m\u001b[0;34m,\u001b[0m \u001b[0mn_mutations\u001b[0m \u001b[0;34m=\u001b[0m \u001b[0;36m1\u001b[0m\u001b[0;34m)\u001b[0m\u001b[0;34m\u001b[0m\u001b[0;34m\u001b[0m\u001b[0m\n",
            "\u001b[0;32m<ipython-input-26-fa857876f550>\u001b[0m in \u001b[0;36mselect_best\u001b[0;34m(parent_gen, hourlystaff_needed, n_best)\u001b[0m\n\u001b[1;32m      3\u001b[0m     \u001b[0;32mfor\u001b[0m \u001b[0midx\u001b[0m\u001b[0;34m,\u001b[0m \u001b[0mparent_staff_planning\u001b[0m \u001b[0;32min\u001b[0m \u001b[0menumerate\u001b[0m\u001b[0;34m(\u001b[0m\u001b[0mparent_gen\u001b[0m\u001b[0;34m)\u001b[0m\u001b[0;34m:\u001b[0m\u001b[0;34m\u001b[0m\u001b[0;34m\u001b[0m\u001b[0m\n\u001b[1;32m      4\u001b[0m \u001b[0;34m\u001b[0m\u001b[0m\n\u001b[0;32m----> 5\u001b[0;31m         \u001b[0mparent_hourly_planning\u001b[0m \u001b[0;34m=\u001b[0m \u001b[0mstaffplanning_to_hourlyplanning\u001b[0m\u001b[0;34m(\u001b[0m\u001b[0mparent_staff_planning\u001b[0m\u001b[0;34m)\u001b[0m\u001b[0;34m\u001b[0m\u001b[0;34m\u001b[0m\u001b[0m\n\u001b[0m\u001b[1;32m      6\u001b[0m         \u001b[0mparent_cost\u001b[0m \u001b[0;34m=\u001b[0m \u001b[0mcost\u001b[0m\u001b[0;34m(\u001b[0m\u001b[0mparent_hourly_planning\u001b[0m\u001b[0;34m,\u001b[0m \u001b[0mhourlystaff_needed\u001b[0m\u001b[0;34m)\u001b[0m\u001b[0;34m\u001b[0m\u001b[0;34m\u001b[0m\u001b[0m\n\u001b[1;32m      7\u001b[0m         \u001b[0mcosts\u001b[0m\u001b[0;34m.\u001b[0m\u001b[0mappend\u001b[0m\u001b[0;34m(\u001b[0m\u001b[0;34m[\u001b[0m\u001b[0midx\u001b[0m\u001b[0;34m,\u001b[0m \u001b[0mparent_cost\u001b[0m\u001b[0;34m]\u001b[0m\u001b[0;34m)\u001b[0m\u001b[0;34m\u001b[0m\u001b[0;34m\u001b[0m\u001b[0m\n",
            "\u001b[0;32m<ipython-input-10-944105db8590>\u001b[0m in \u001b[0;36mstaffplanning_to_hourlyplanning\u001b[0;34m(staff_planning)\u001b[0m\n\u001b[1;32m     16\u001b[0m             \u001b[0;32mfor\u001b[0m \u001b[0mtime\u001b[0m \u001b[0;32min\u001b[0m \u001b[0mrange\u001b[0m\u001b[0;34m(\u001b[0m\u001b[0;36m0\u001b[0m\u001b[0;34m,\u001b[0m \u001b[0;36m24\u001b[0m\u001b[0;34m)\u001b[0m\u001b[0;34m:\u001b[0m\u001b[0;34m\u001b[0m\u001b[0;34m\u001b[0m\u001b[0m\n\u001b[1;32m     17\u001b[0m \u001b[0;34m\u001b[0m\u001b[0m\n\u001b[0;32m---> 18\u001b[0;31m                 \u001b[0memployee_present_hour\u001b[0m\u001b[0;34m.\u001b[0m\u001b[0mappend\u001b[0m\u001b[0;34m(\u001b[0m\u001b[0memployee_present\u001b[0m\u001b[0;34m(\u001b[0m\u001b[0memployee\u001b[0m\u001b[0;34m,\u001b[0m \u001b[0mtime\u001b[0m\u001b[0;34m)\u001b[0m\u001b[0;34m)\u001b[0m\u001b[0;34m\u001b[0m\u001b[0;34m\u001b[0m\u001b[0m\n\u001b[0m\u001b[1;32m     19\u001b[0m \u001b[0;34m\u001b[0m\u001b[0m\n\u001b[1;32m     20\u001b[0m             \u001b[0mhourlystaff_day\u001b[0m\u001b[0;34m.\u001b[0m\u001b[0mappend\u001b[0m\u001b[0;34m(\u001b[0m\u001b[0memployee_present_hour\u001b[0m\u001b[0;34m)\u001b[0m\u001b[0;34m\u001b[0m\u001b[0;34m\u001b[0m\u001b[0m\n",
            "\u001b[0;31mKeyboardInterrupt\u001b[0m: "
          ]
        }
      ]
    },
    {
      "cell_type": "code",
      "metadata": {
        "id": "DKHXKjMbvk5U"
      },
      "source": [
        ""
      ],
      "execution_count": null,
      "outputs": []
    }
  ]
}